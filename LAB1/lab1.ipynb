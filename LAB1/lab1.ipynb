{
 "cells": [
  {
   "cell_type": "markdown",
   "id": "0d6c3ba8-c286-47f4-95e0-6f4b074b21d3",
   "metadata": {},
   "source": [
    "LAB 1 "
   ]
  },
  {
   "cell_type": "code",
   "execution_count": 17,
   "id": "3858bd38-e822-4418-b3cc-e6d27e022ed9",
   "metadata": {},
   "outputs": [
    {
     "name": "stdin",
     "output_type": "stream",
     "text": [
      "Enter any number  4\n"
     ]
    },
    {
     "name": "stdout",
     "output_type": "stream",
     "text": [
      "After addition of 3 \n",
      "7\n",
      "After multiply by 2 \n",
      "14\n",
      "After subtract by 4 \n",
      "10\n",
      "After add again by 3 \n",
      "The final result is  13\n"
     ]
    }
   ],
   "source": [
    "a = int(input(\"Enter any number \"))\n",
    "add = a + 3\n",
    "print(\"After addition of 3 \")\n",
    "print(add)\n",
    "mul = add * 2\n",
    "print(\"After multiply by 2 \")\n",
    "print(mul)\n",
    "sub1 = mul -4\n",
    "print(\"After subtract by 4 \")\n",
    "print(sub1)\n",
    "add2 = sub1 + 3\n",
    "print(\"After add again by 3 \")\n",
    "print(\"The final result is \",add2)\n"
   ]
  },
  {
   "cell_type": "code",
   "execution_count": 21,
   "id": "c4bd4968-f5f0-4997-9342-78c360380213",
   "metadata": {},
   "outputs": [
    {
     "name": "stdin",
     "output_type": "stream",
     "text": [
      "Enter temperature ib Celsius : 32.6\n"
     ]
    },
    {
     "name": "stdout",
     "output_type": "stream",
     "text": [
      "The converted temperature in Fahrenheit is : 90.68 °F\n"
     ]
    }
   ],
   "source": [
    "c = float(input(\"Enter temperature ib Celsius :\"))\n",
    "f  = (c*1.8)+32\n",
    "print(\"The converted temperature in Fahrenheit is :\",f,\"°F\")"
   ]
  },
  {
   "cell_type": "code",
   "execution_count": 24,
   "id": "d079429a-e14a-4190-a755-9a6c6c9fc28b",
   "metadata": {},
   "outputs": [
    {
     "name": "stdin",
     "output_type": "stream",
     "text": [
      "Enter radius in cm : 3.5\n"
     ]
    },
    {
     "name": "stdout",
     "output_type": "stream",
     "text": [
      "The area of the circle is :  38.465 cm\n"
     ]
    }
   ],
   "source": [
    "r = float(input(\"Enter radius in cm :\"))\n",
    "pi = 3.14\n",
    "area = pi*r*r\n",
    "print(\"The area of the circle is : \",area,\"cm\")"
   ]
  },
  {
   "cell_type": "code",
   "execution_count": 30,
   "id": "330f573f-26e6-49f3-a993-03694c81d398",
   "metadata": {},
   "outputs": [
    {
     "name": "stdin",
     "output_type": "stream",
     "text": [
      "Enter your favorite color:  grey\n"
     ]
    },
    {
     "name": "stdout",
     "output_type": "stream",
     "text": [
      "greygreygreygreygreygreygreygreygreygrey\n",
      "grey                                grey\n",
      "greygreygreygreygreygreygreygreygreygrey\n"
     ]
    }
   ],
   "source": [
    "c = input(\"Enter your favorite color: \")  \n",
    "print(c * 10)\n",
    "print(c + \" \" * (40 - len(c) * 2) + c)\n",
    "print(c * 10)\n"
   ]
  },
  {
   "cell_type": "code",
   "execution_count": 44,
   "id": "9cdfa7ae-961b-4840-bf8e-44ba03c98e27",
   "metadata": {},
   "outputs": [
    {
     "name": "stdout",
     "output_type": "stream",
     "text": [
      "\tHamza\t\n",
      "Stripping\n",
      "Hamza\n",
      "Left Stripping\n",
      "Hamza\t\n",
      "Left Stripping\n",
      "\tHamza\n"
     ]
    }
   ],
   "source": [
    "name = \"\\tHamza\\t\"\n",
    "print(name)\n",
    "print(\"Stripping\")\n",
    "print(name.strip())\n",
    "print(\"Left Stripping\")\n",
    "print(name.lstrip())\n",
    "print(\"Left Stripping\")\n",
    "print(name.rstrip())"
   ]
  },
  {
   "cell_type": "code",
   "execution_count": 52,
   "id": "8d1d8aa9-ce99-4148-8a4b-bd4b7814a3ca",
   "metadata": {},
   "outputs": [
    {
     "name": "stdin",
     "output_type": "stream",
     "text": [
      "Enter a number :  4\n"
     ]
    },
    {
     "name": "stdout",
     "output_type": "stream",
     "text": [
      "The table of  4\n",
      "4 x 1  =  4\n",
      "4 x 2  =  8\n",
      "4 x 3  =  12\n",
      "4 x 4  =  16\n",
      "4 x 5  =  20\n",
      "4 x 6  =  24\n",
      "4 x 7  =  28\n",
      "4 x 8  =  32\n",
      "4 x 9  =  36\n",
      "4 x 10  =  40\n"
     ]
    }
   ],
   "source": [
    "n = int(input(\"Enter a number : \"))\n",
    "print(\"The table of \",n)\n",
    "for i in range(1,11):\n",
    "    print(n,\"x\",i,\" = \",n*i)"
   ]
  },
  {
   "cell_type": "code",
   "execution_count": 66,
   "id": "0f035a52-5266-4096-9bfe-749c56f8ad51",
   "metadata": {},
   "outputs": [
    {
     "name": "stdin",
     "output_type": "stream",
     "text": [
      "Enter the name of city  lahore\n"
     ]
    },
    {
     "name": "stdout",
     "output_type": "stream",
     "text": [
      "lahore is in pakistan\n"
     ]
    }
   ],
   "source": [
    "l = [\"karachi \", \"lahore\",\"islamabad\",\"Quetta\"]\n",
    "city = input(\"Enter the name of city \").strip().lower()\n",
    "c = \"pakistan\"\n",
    "l = [\"karachi\", \"lahore\",\"islamabad\",\"Quetta\"]\n",
    "def describe_city(city,c):\n",
    "    if city in l :\n",
    "        print(city ,\"is in\",c)\n",
    "    else:\n",
    "        print(city,\"is not in\",c)\n",
    "\n",
    "describe_city(city,c)"
   ]
  },
  {
   "cell_type": "code",
   "execution_count": 75,
   "id": "1b942453-3f0d-45b5-a0fb-3b49ccaa09ae",
   "metadata": {},
   "outputs": [
    {
     "name": "stdin",
     "output_type": "stream",
     "text": [
      "Enter a number : -4\n"
     ]
    },
    {
     "name": "stdout",
     "output_type": "stream",
     "text": [
      "4\n"
     ]
    }
   ],
   "source": [
    "n = int(input(\"Enter a number :\"))\n",
    "def absolute_num(n):\n",
    "    if n < 0:\n",
    "        n = -n\n",
    "    return n\n",
    "print(absolute_num(n))"
   ]
  },
  {
   "cell_type": "code",
   "execution_count": null,
   "id": "070a5fcf-99c4-4178-addd-fc0e192ae018",
   "metadata": {},
   "outputs": [],
   "source": []
  }
 ],
 "metadata": {
  "kernelspec": {
   "display_name": "Python 3 (ipykernel)",
   "language": "python",
   "name": "python3"
  },
  "language_info": {
   "codemirror_mode": {
    "name": "ipython",
    "version": 3
   },
   "file_extension": ".py",
   "mimetype": "text/x-python",
   "name": "python",
   "nbconvert_exporter": "python",
   "pygments_lexer": "ipython3",
   "version": "3.13.0"
  }
 },
 "nbformat": 4,
 "nbformat_minor": 5
}
